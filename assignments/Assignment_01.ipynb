{
  "cells": [
    {
      "cell_type": "markdown",
      "metadata": {
        "id": "view-in-github",
        "colab_type": "text"
      },
      "source": [
        "<a href=\"https://colab.research.google.com/github/Bhargavi116/Skills/blob/main/assignments/Assignment_01.ipynb\" target=\"_parent\"><img src=\"https://colab.research.google.com/assets/colab-badge.svg\" alt=\"Open In Colab\"/></a>"
      ]
    },
    {
      "cell_type": "markdown",
      "id": "548b84c2-e24f-4a12-98bb-5e7bd5ec86bd",
      "metadata": {
        "id": "548b84c2-e24f-4a12-98bb-5e7bd5ec86bd"
      },
      "source": [
        "# Python"
      ]
    },
    {
      "cell_type": "markdown",
      "id": "99fbfc45-ba9e-4766-8219-f5dbcacc8481",
      "metadata": {
        "id": "99fbfc45-ba9e-4766-8219-f5dbcacc8481"
      },
      "source": [
        "<a target=\"_blank\" href=\"https://colab.research.google.com/github/kgsb24/rishi-college/blob/main/assignments/Assignment_01.ipynb\">\n",
        "  <img src=\"https://colab.research.google.com/assets/colab-badge.svg\" alt=\"Open In Colab\"/>\n",
        "</a>"
      ]
    },
    {
      "cell_type": "markdown",
      "id": "07a1f870-f905-4703-8b65-12e83172133a",
      "metadata": {
        "id": "07a1f870-f905-4703-8b65-12e83172133a"
      },
      "source": [
        "## Basic Python Fundamentals"
      ]
    },
    {
      "cell_type": "code",
      "execution_count": null,
      "id": "502e1d87-2fdd-4588-a330-2af21268215e",
      "metadata": {
        "id": "502e1d87-2fdd-4588-a330-2af21268215e"
      },
      "outputs": [],
      "source": [
        "# Write a Python program to declare a variable x with the value 10 and print its type."
      ]
    },
    {
      "cell_type": "code",
      "source": [
        "X=10\n",
        "type(X)"
      ],
      "metadata": {
        "id": "iEq7HdlwisoO",
        "outputId": "5ab44aec-f68c-4b29-99a7-6c4886ae9637",
        "colab": {
          "base_uri": "https://localhost:8080/"
        }
      },
      "id": "iEq7HdlwisoO",
      "execution_count": null,
      "outputs": [
        {
          "output_type": "execute_result",
          "data": {
            "text/plain": [
              "int"
            ]
          },
          "metadata": {},
          "execution_count": 1
        }
      ]
    },
    {
      "cell_type": "code",
      "execution_count": null,
      "id": "dae77579-4b7d-4f06-96e0-7bdfe43860d7",
      "metadata": {
        "id": "dae77579-4b7d-4f06-96e0-7bdfe43860d7"
      },
      "outputs": [],
      "source": [
        "# Write a Python program to declare three variables a = 5, b = 10, and c = 15, and print their sum."
      ]
    },
    {
      "cell_type": "code",
      "source": [
        "a=3\n",
        "b=5\n",
        "c=4\n",
        "print(a+b+c)"
      ],
      "metadata": {
        "id": "pdOFtvLQi2wf",
        "outputId": "aaf83d52-03d3-4134-b6d8-210871d3d837",
        "colab": {
          "base_uri": "https://localhost:8080/"
        }
      },
      "id": "pdOFtvLQi2wf",
      "execution_count": null,
      "outputs": [
        {
          "output_type": "stream",
          "name": "stdout",
          "text": [
            "12\n"
          ]
        }
      ]
    },
    {
      "cell_type": "code",
      "execution_count": null,
      "id": "c32867b2-a615-426a-89ae-bd2793b6a4dc",
      "metadata": {
        "id": "c32867b2-a615-426a-89ae-bd2793b6a4dc"
      },
      "outputs": [],
      "source": [
        "# Write a Python program that checks and prints the type of a variable (e.g., int, float, str, etc.)."
      ]
    },
    {
      "cell_type": "code",
      "source": [
        "x=23\n",
        "y=3.5\n",
        "z=\"minnu\"\n",
        "print (type(x))\n",
        "print(type(y))\n",
        "print(type(z))"
      ],
      "metadata": {
        "id": "Agf5Z-h_jErO",
        "outputId": "ee5458b5-fac2-4b8f-9ff0-f149fb0f01d2",
        "colab": {
          "base_uri": "https://localhost:8080/"
        }
      },
      "id": "Agf5Z-h_jErO",
      "execution_count": null,
      "outputs": [
        {
          "output_type": "stream",
          "name": "stdout",
          "text": [
            "<class 'int'>\n",
            "<class 'float'>\n",
            "<class 'str'>\n"
          ]
        }
      ]
    },
    {
      "cell_type": "code",
      "execution_count": null,
      "id": "8b233e41-9d44-4869-9ead-afb3ff1c0b67",
      "metadata": {
        "id": "8b233e41-9d44-4869-9ead-afb3ff1c0b67"
      },
      "outputs": [],
      "source": [
        "# Write a Python program to perform addition, subtraction, multiplication, and division on two numbers. (User input is required for the numbers)"
      ]
    },
    {
      "cell_type": "code",
      "source": [
        "a=20\n",
        "b=23\n",
        "print(a+b)\n",
        "print(a-b)\n",
        "print(a*b)\n",
        "print(a/b)"
      ],
      "metadata": {
        "id": "GmHI5UsYjP5h",
        "outputId": "715702d1-680e-42a1-cdde-e218070eac9a",
        "colab": {
          "base_uri": "https://localhost:8080/"
        }
      },
      "id": "GmHI5UsYjP5h",
      "execution_count": null,
      "outputs": [
        {
          "output_type": "stream",
          "name": "stdout",
          "text": [
            "43\n",
            "-3\n",
            "460\n",
            "0.8695652173913043\n"
          ]
        }
      ]
    },
    {
      "cell_type": "code",
      "execution_count": null,
      "id": "629435bd-6bfa-44de-91d9-3b2937713257",
      "metadata": {
        "id": "629435bd-6bfa-44de-91d9-3b2937713257"
      },
      "outputs": [],
      "source": [
        "# Write a Python program to convert a string \"123\" to an integer and a float and print the results."
      ]
    },
    {
      "cell_type": "code",
      "source": [
        "x=\"123\"\n",
        "print(int(x))\n",
        "print(float(x))"
      ],
      "metadata": {
        "id": "Euo7E-jkjgkS",
        "outputId": "558bba4b-e03a-4a35-c771-05424f17cfea",
        "colab": {
          "base_uri": "https://localhost:8080/"
        }
      },
      "id": "Euo7E-jkjgkS",
      "execution_count": null,
      "outputs": [
        {
          "output_type": "stream",
          "name": "stdout",
          "text": [
            "123\n",
            "123.0\n"
          ]
        }
      ]
    },
    {
      "cell_type": "code",
      "execution_count": null,
      "id": "599421f1-51c1-4653-9d78-b007fcc6861b",
      "metadata": {
        "id": "599421f1-51c1-4653-9d78-b007fcc6861b"
      },
      "outputs": [],
      "source": [
        "# Write a Python program to print the first character of a given string. (User input for the string)"
      ]
    },
    {
      "cell_type": "code",
      "source": [
        "str=\"minnu\"\n",
        "print(str[0])"
      ],
      "metadata": {
        "id": "X4y17xTZjmTu",
        "outputId": "4f2cade4-9f05-470c-f519-1b67fb440688",
        "colab": {
          "base_uri": "https://localhost:8080/"
        }
      },
      "id": "X4y17xTZjmTu",
      "execution_count": null,
      "outputs": [
        {
          "output_type": "stream",
          "name": "stdout",
          "text": [
            "m\n"
          ]
        }
      ]
    },
    {
      "cell_type": "code",
      "execution_count": null,
      "id": "54ee0a5d-415f-40b6-b82e-c0de12a002f9",
      "metadata": {
        "id": "54ee0a5d-415f-40b6-b82e-c0de12a002f9"
      },
      "outputs": [],
      "source": [
        "# Write a Python program to print the length of a string. (User input for the string)"
      ]
    },
    {
      "cell_type": "code",
      "source": [
        "str=\"minnu\"\n",
        "print(len(str))"
      ],
      "metadata": {
        "id": "uME5ICvCjwJv",
        "outputId": "28410b9e-e8f0-4e25-946e-d10594bd1c1e",
        "colab": {
          "base_uri": "https://localhost:8080/"
        }
      },
      "id": "uME5ICvCjwJv",
      "execution_count": null,
      "outputs": [
        {
          "output_type": "stream",
          "name": "stdout",
          "text": [
            "5\n"
          ]
        }
      ]
    },
    {
      "cell_type": "code",
      "execution_count": null,
      "id": "65f44c33-618e-4337-a9d1-9de888c93a0a",
      "metadata": {
        "id": "65f44c33-618e-4337-a9d1-9de888c93a0a"
      },
      "outputs": [],
      "source": [
        "# Write a Python program to check if a given string contains only alphabets."
      ]
    },
    {
      "cell_type": "code",
      "source": [
        "str=(\"adithya\")\n",
        "print(str.isalpha())"
      ],
      "metadata": {
        "id": "MQm-homMj5Wi",
        "outputId": "bb217d32-4abc-436f-b275-6d38f977f0b5",
        "colab": {
          "base_uri": "https://localhost:8080/"
        }
      },
      "id": "MQm-homMj5Wi",
      "execution_count": null,
      "outputs": [
        {
          "output_type": "stream",
          "name": "stdout",
          "text": [
            "True\n"
          ]
        }
      ]
    },
    {
      "cell_type": "code",
      "execution_count": null,
      "id": "37463128-2b51-4860-b6bf-40d3c03fbe84",
      "metadata": {
        "id": "37463128-2b51-4860-b6bf-40d3c03fbe84"
      },
      "outputs": [],
      "source": [
        "# Write a Python program to concatenate two strings. (User input for the strings)"
      ]
    },
    {
      "cell_type": "code",
      "source": [
        "x=\"WOOD\"\n",
        "y=\"WORKS\"\n",
        "print(x+y)"
      ],
      "metadata": {
        "id": "Wc6oekmYkCEk",
        "outputId": "911b57ee-9de9-44b6-c77d-4f00e4d816d4",
        "colab": {
          "base_uri": "https://localhost:8080/"
        }
      },
      "id": "Wc6oekmYkCEk",
      "execution_count": null,
      "outputs": [
        {
          "output_type": "stream",
          "name": "stdout",
          "text": [
            "WOODWORKS\n"
          ]
        }
      ]
    },
    {
      "cell_type": "code",
      "execution_count": null,
      "id": "b1c5d364-eccf-473a-b03a-ab15f3e917cf",
      "metadata": {
        "id": "b1c5d364-eccf-473a-b03a-ab15f3e917cf"
      },
      "outputs": [],
      "source": [
        "# Write a Python program to find the index of a substring \"abc\" in a string. (User input for the string)"
      ]
    },
    {
      "cell_type": "code",
      "source": [
        "x=\"branches\"\n",
        "print(x.index(\"a\"))\n",
        "print(x.index(\"b\"))\n",
        "print(x.index(\"c\"))"
      ],
      "metadata": {
        "id": "DE5hud1TkR2a",
        "outputId": "00625eb6-5acc-487d-eb94-6b42eaede51d",
        "colab": {
          "base_uri": "https://localhost:8080/"
        }
      },
      "id": "DE5hud1TkR2a",
      "execution_count": null,
      "outputs": [
        {
          "output_type": "stream",
          "name": "stdout",
          "text": [
            "2\n",
            "0\n",
            "4\n"
          ]
        }
      ]
    },
    {
      "cell_type": "code",
      "execution_count": null,
      "id": "cc92afd9-ba4b-4934-a79d-f26825b4efc2",
      "metadata": {
        "id": "cc92afd9-ba4b-4934-a79d-f26825b4efc2"
      },
      "outputs": [],
      "source": [
        "# Write a Python program to convert a string to both uppercase and lowercase. (User input for the string)"
      ]
    },
    {
      "cell_type": "code",
      "source": [
        "str=\"usha\"\n",
        "print(str.upper())\n",
        "print(str.lower())"
      ],
      "metadata": {
        "id": "6thTA25CkWpc",
        "outputId": "d502fe5f-fd88-44a3-d18c-88e3941fdc33",
        "colab": {
          "base_uri": "https://localhost:8080/"
        }
      },
      "id": "6thTA25CkWpc",
      "execution_count": null,
      "outputs": [
        {
          "output_type": "stream",
          "name": "stdout",
          "text": [
            "USHA\n",
            "usha\n"
          ]
        }
      ]
    },
    {
      "cell_type": "code",
      "execution_count": null,
      "id": "f24f79b3-da8b-44bf-8310-c68442e86e3e",
      "metadata": {
        "id": "f24f79b3-da8b-44bf-8310-c68442e86e3e"
      },
      "outputs": [],
      "source": [
        "# Write a Python program to count how many times a particular character appears in a string. (User input for string and character)"
      ]
    },
    {
      "cell_type": "code",
      "source": [
        "str=\"minnu\"\n",
        "print(str.count(\"n\"))"
      ],
      "metadata": {
        "id": "_ynwRUvMkgIk",
        "outputId": "df65425b-d704-4b87-d54a-037a1fedf931",
        "colab": {
          "base_uri": "https://localhost:8080/"
        }
      },
      "id": "_ynwRUvMkgIk",
      "execution_count": null,
      "outputs": [
        {
          "output_type": "stream",
          "name": "stdout",
          "text": [
            "2\n"
          ]
        }
      ]
    },
    {
      "cell_type": "code",
      "execution_count": null,
      "id": "f2e8f25c-5c34-44eb-b749-7cc4c100b9a8",
      "metadata": {
        "id": "f2e8f25c-5c34-44eb-b749-7cc4c100b9a8"
      },
      "outputs": [],
      "source": [
        "# Write a Python program to take the user's name as input and print a personalized greeting. (Hello, username, Good Morning)"
      ]
    },
    {
      "cell_type": "code",
      "source": [
        "a=\"Hello\"\n",
        "b=\"minnu\"\n",
        "c=\"Good Morning\"\n",
        "print(a)\n",
        "print(b)\n",
        "print(c)\n"
      ],
      "metadata": {
        "id": "qekNytEqkoU5",
        "outputId": "b61cb6ce-c94f-4677-ab19-4510691f7f23",
        "colab": {
          "base_uri": "https://localhost:8080/"
        }
      },
      "id": "qekNytEqkoU5",
      "execution_count": null,
      "outputs": [
        {
          "output_type": "stream",
          "name": "stdout",
          "text": [
            "Hello\n",
            "minnu\n",
            "Good Morning\n"
          ]
        }
      ]
    },
    {
      "cell_type": "code",
      "execution_count": null,
      "id": "189296cf-77e6-4f48-b010-77458da5bc9d",
      "metadata": {
        "id": "189296cf-77e6-4f48-b010-77458da5bc9d"
      },
      "outputs": [],
      "source": [
        "# Write a Python program to take two numbers as input and print their sum."
      ]
    },
    {
      "cell_type": "code",
      "source": [
        "x=13\n",
        "y=83\n",
        "print(x+y)\n"
      ],
      "metadata": {
        "id": "gOCu2FOokxuM",
        "outputId": "b2556a4e-a529-4e26-fefc-766af186ef2b",
        "colab": {
          "base_uri": "https://localhost:8080/"
        }
      },
      "id": "gOCu2FOokxuM",
      "execution_count": null,
      "outputs": [
        {
          "output_type": "stream",
          "name": "stdout",
          "text": [
            "96\n"
          ]
        }
      ]
    },
    {
      "cell_type": "code",
      "execution_count": null,
      "id": "0563b26c-0218-47b8-9035-98beb73b0931",
      "metadata": {
        "id": "0563b26c-0218-47b8-9035-98beb73b0931"
      },
      "outputs": [],
      "source": [
        "# Write a Python program to format and display a string containing the user's name and age. (User input required)"
      ]
    },
    {
      "cell_type": "code",
      "source": [
        "name=(\"usha\")\n",
        "age=(\"19\")\n",
        "print(name)\n",
        "print(age)"
      ],
      "metadata": {
        "id": "3R0jLJV7k8qo",
        "outputId": "9b6f282c-5ec5-4b7c-9d21-afd69224a1e6",
        "colab": {
          "base_uri": "https://localhost:8080/"
        }
      },
      "id": "3R0jLJV7k8qo",
      "execution_count": null,
      "outputs": [
        {
          "output_type": "stream",
          "name": "stdout",
          "text": [
            "usha\n",
            "19\n"
          ]
        }
      ]
    },
    {
      "cell_type": "markdown",
      "id": "0bde6e5a-0415-4b06-8b5a-95fa252b34eb",
      "metadata": {
        "id": "0bde6e5a-0415-4b06-8b5a-95fa252b34eb"
      },
      "source": [
        "## Control Structures (Conditionals and Loops)"
      ]
    },
    {
      "cell_type": "code",
      "execution_count": null,
      "id": "aefff5f3-b61e-43e6-a458-7367ef1af9de",
      "metadata": {
        "id": "aefff5f3-b61e-43e6-a458-7367ef1af9de"
      },
      "outputs": [],
      "source": [
        "# Write a Python program that takes a number as input and checks whether it is positive, negative, or zero."
      ]
    },
    {
      "cell_type": "code",
      "source": [
        "x=16\n",
        "if x > 0:\n",
        "  print(\"The number is positive.\")\n",
        "elif x < 0:\n",
        "  print(\"The number is negative\")\n",
        "else:\n",
        " print(\"The number is zero\")"
      ],
      "metadata": {
        "id": "n8_LJGQUlI5_",
        "outputId": "ac34c8aa-469b-49ab-813a-b921ee3f3f5e",
        "colab": {
          "base_uri": "https://localhost:8080/"
        }
      },
      "id": "n8_LJGQUlI5_",
      "execution_count": null,
      "outputs": [
        {
          "output_type": "stream",
          "name": "stdout",
          "text": [
            "The number is positive.\n"
          ]
        }
      ]
    },
    {
      "cell_type": "code",
      "execution_count": null,
      "id": "4dc6d14b-6d22-4348-859a-2a03f9be65f7",
      "metadata": {
        "id": "4dc6d14b-6d22-4348-859a-2a03f9be65f7"
      },
      "outputs": [],
      "source": [
        "# Write a Python program to find the maximum of three numbers. (User input for the numbers)"
      ]
    },
    {
      "cell_type": "code",
      "source": [
        "a=7\n",
        "b=8\n",
        "c=11\n",
        "print(\"maximum of three number\")\n",
        "if a>b and a>c:\n",
        "  print(a)\n",
        "elif b>a and b>c:\n",
        "  print(b)\n",
        "else:\n",
        "  print(c)"
      ],
      "metadata": {
        "id": "l8xrEwKTlOQz",
        "outputId": "d512b9aa-9ce6-4ba4-f86b-2b782028a727",
        "colab": {
          "base_uri": "https://localhost:8080/"
        }
      },
      "id": "l8xrEwKTlOQz",
      "execution_count": null,
      "outputs": [
        {
          "output_type": "stream",
          "name": "stdout",
          "text": [
            "maximum of three number\n",
            "11\n"
          ]
        }
      ]
    },
    {
      "cell_type": "code",
      "execution_count": null,
      "id": "3f6d1f45-eb68-4142-89d6-510046f21879",
      "metadata": {
        "id": "3f6d1f45-eb68-4142-89d6-510046f21879"
      },
      "outputs": [],
      "source": [
        "# Write a Python program to check if a year is a leap year. (User input for the year)"
      ]
    },
    {
      "cell_type": "code",
      "source": [
        "year=2021\n",
        "if year%4==0:\n",
        " print(\"The year is leap year\")\n",
        "else:\n",
        " print(\"The year is not leap year\")"
      ],
      "metadata": {
        "id": "b-ELIbr4lXg-",
        "outputId": "063a386b-b98d-4e59-b10c-62e5156fabd5",
        "colab": {
          "base_uri": "https://localhost:8080/"
        }
      },
      "id": "b-ELIbr4lXg-",
      "execution_count": null,
      "outputs": [
        {
          "output_type": "stream",
          "name": "stdout",
          "text": [
            "The year is not leap year\n"
          ]
        }
      ]
    },
    {
      "cell_type": "code",
      "execution_count": null,
      "id": "b6a07105-6fa5-4f70-b64b-ebd66afc3c2b",
      "metadata": {
        "id": "b6a07105-6fa5-4f70-b64b-ebd66afc3c2b"
      },
      "outputs": [],
      "source": [
        "# Write a Python program to check if a number is divisible by both 3 and 5. (User input for the number)"
      ]
    },
    {
      "cell_type": "code",
      "source": [
        "a=25\n",
        "if a%3==0 and a%5==0:\n",
        "  print(\"is divisible by both 3 and 5\")\n",
        "else:\n",
        "  print(\"is not divisible by both 3 and 5\")"
      ],
      "metadata": {
        "id": "rkNreVXhlc1r",
        "outputId": "a76a7306-84da-4dd2-80a1-a5afd7f752f6",
        "colab": {
          "base_uri": "https://localhost:8080/"
        }
      },
      "id": "rkNreVXhlc1r",
      "execution_count": null,
      "outputs": [
        {
          "output_type": "stream",
          "name": "stdout",
          "text": [
            "is not divisible by both 3 and 5\n"
          ]
        }
      ]
    },
    {
      "cell_type": "code",
      "execution_count": null,
      "id": "d10c9005-b85d-42f9-81d0-65d149415888",
      "metadata": {
        "id": "d10c9005-b85d-42f9-81d0-65d149415888"
      },
      "outputs": [],
      "source": [
        "# Write a Python program to check if a string is a palindrome. (User input for the string)"
      ]
    },
    {
      "cell_type": "code",
      "source": [
        "string=\"rishi college\"\n",
        "if(string==string[::-1]):\n",
        "  print(\"The letter is palindrome\")\n",
        "else:\n",
        "  print(\"The letter is not a palindrome\")"
      ],
      "metadata": {
        "id": "aU4vy-ExliVx",
        "outputId": "20f4734f-af83-4f19-ee85-d7f3b0ccf6dc",
        "colab": {
          "base_uri": "https://localhost:8080/"
        }
      },
      "id": "aU4vy-ExliVx",
      "execution_count": null,
      "outputs": [
        {
          "output_type": "stream",
          "name": "stdout",
          "text": [
            "The letter is not a palindrome\n"
          ]
        }
      ]
    },
    {
      "cell_type": "code",
      "execution_count": null,
      "id": "82d76cdf-efc6-45c6-ab09-9d1f17b3d857",
      "metadata": {
        "id": "82d76cdf-efc6-45c6-ab09-9d1f17b3d857"
      },
      "outputs": [],
      "source": [
        "# Write a Python program to print numbers from 1 to 10 using a for loop."
      ]
    },
    {
      "cell_type": "code",
      "source": [
        "for number in range(1,11):\n",
        "  print(number)"
      ],
      "metadata": {
        "id": "5ogPcsdNlq2o",
        "outputId": "9b270aab-fcab-468f-8c36-c87809b46367",
        "colab": {
          "base_uri": "https://localhost:8080/"
        }
      },
      "id": "5ogPcsdNlq2o",
      "execution_count": null,
      "outputs": [
        {
          "output_type": "stream",
          "name": "stdout",
          "text": [
            "1\n",
            "2\n",
            "3\n",
            "4\n",
            "5\n",
            "6\n",
            "7\n",
            "8\n",
            "9\n",
            "10\n"
          ]
        }
      ]
    },
    {
      "cell_type": "code",
      "execution_count": null,
      "id": "d09e8994-e984-4c12-ab1e-1bfc6938a389",
      "metadata": {
        "id": "d09e8994-e984-4c12-ab1e-1bfc6938a389"
      },
      "outputs": [],
      "source": [
        "# Write a Python program to print all even numbers from 1 to 20 using a while loop."
      ]
    },
    {
      "cell_type": "code",
      "source": [
        "for even_number in range(1,21):\n",
        "  if even_number%2==0:\n",
        "    print(even_number)"
      ],
      "metadata": {
        "id": "2bGmozjzlwTn",
        "outputId": "6b7520be-7762-432c-a956-c9dbe62e7112",
        "colab": {
          "base_uri": "https://localhost:8080/"
        }
      },
      "id": "2bGmozjzlwTn",
      "execution_count": null,
      "outputs": [
        {
          "output_type": "stream",
          "name": "stdout",
          "text": [
            "2\n",
            "4\n",
            "6\n",
            "8\n",
            "10\n",
            "12\n",
            "14\n",
            "16\n",
            "18\n",
            "20\n"
          ]
        }
      ]
    },
    {
      "cell_type": "code",
      "execution_count": null,
      "id": "c09ca878-167e-49ca-97f0-247a43c9b472",
      "metadata": {
        "id": "c09ca878-167e-49ca-97f0-247a43c9b472"
      },
      "outputs": [],
      "source": [
        "# Write a Python program to print the multiplication table of a given number using a for loop. (User input for the number)"
      ]
    },
    {
      "cell_type": "code",
      "source": [
        "number=5\n",
        "for i in range(1,11):\n",
        "  print(number, \"x\",i, \"=\", number)"
      ],
      "metadata": {
        "id": "NnFWt1tml4-z",
        "outputId": "54c83bb3-e443-4269-9643-9f01b043f3c6",
        "colab": {
          "base_uri": "https://localhost:8080/"
        }
      },
      "id": "NnFWt1tml4-z",
      "execution_count": null,
      "outputs": [
        {
          "output_type": "stream",
          "name": "stdout",
          "text": [
            "5 x 1 = 5\n",
            "5 x 2 = 5\n",
            "5 x 3 = 5\n",
            "5 x 4 = 5\n",
            "5 x 5 = 5\n",
            "5 x 6 = 5\n",
            "5 x 7 = 5\n",
            "5 x 8 = 5\n",
            "5 x 9 = 5\n",
            "5 x 10 = 5\n"
          ]
        }
      ]
    },
    {
      "cell_type": "code",
      "execution_count": null,
      "id": "b72118ab-e62d-4af9-bcec-e1cc6af31b25",
      "metadata": {
        "id": "b72118ab-e62d-4af9-bcec-e1cc6af31b25"
      },
      "outputs": [],
      "source": [
        "# Write a Python program to calculate the sum of all numbers from 1 to n using a while loop. (User input for n)"
      ]
    },
    {
      "cell_type": "code",
      "source": [
        "a = 25\n",
        "if a < 0:\n",
        "  print(\"positive number\")\n",
        "else:\n",
        "  sum = 0\n",
        "  while(a > 0):\n",
        "    sum += a\n",
        "    a -= 1\n",
        "    print(\"The sum is\",sum)\n"
      ],
      "metadata": {
        "id": "Kz3H7TN7mEhd",
        "outputId": "6f595470-72fa-4ac2-b55d-5a229ca273e8",
        "colab": {
          "base_uri": "https://localhost:8080/"
        }
      },
      "id": "Kz3H7TN7mEhd",
      "execution_count": null,
      "outputs": [
        {
          "output_type": "stream",
          "name": "stdout",
          "text": [
            "The sum is 25\n",
            "The sum is 49\n",
            "The sum is 72\n",
            "The sum is 94\n",
            "The sum is 115\n",
            "The sum is 135\n",
            "The sum is 154\n",
            "The sum is 172\n",
            "The sum is 189\n",
            "The sum is 205\n",
            "The sum is 220\n",
            "The sum is 234\n",
            "The sum is 247\n",
            "The sum is 259\n",
            "The sum is 270\n",
            "The sum is 280\n",
            "The sum is 289\n",
            "The sum is 297\n",
            "The sum is 304\n",
            "The sum is 310\n",
            "The sum is 315\n",
            "The sum is 319\n",
            "The sum is 322\n",
            "The sum is 324\n",
            "The sum is 325\n"
          ]
        }
      ]
    },
    {
      "cell_type": "code",
      "execution_count": null,
      "id": "ae93621f-11a2-40b7-97bc-3002f03ac36a",
      "metadata": {
        "id": "ae93621f-11a2-40b7-97bc-3002f03ac36a"
      },
      "outputs": [],
      "source": [
        "# Write a Python program to calculate the factorial of a number using a while loop. (User input for the number)"
      ]
    },
    {
      "cell_type": "code",
      "source": [
        "a =4\n",
        "factorial = 1\n",
        "i = 1\n",
        "while i <= a:\n",
        "  factorial *= i\n",
        "  i += 1\n",
        "print(\"The factorial of\", a, \"is\", factorial)"
      ],
      "metadata": {
        "id": "D1UIfAdOmVsa",
        "outputId": "0d64954b-8d46-4d14-90ea-3c209b215bd1",
        "colab": {
          "base_uri": "https://localhost:8080/"
        }
      },
      "id": "D1UIfAdOmVsa",
      "execution_count": null,
      "outputs": [
        {
          "output_type": "stream",
          "name": "stdout",
          "text": [
            "The factorial of 4 is 24\n"
          ]
        }
      ]
    },
    {
      "cell_type": "code",
      "execution_count": null,
      "id": "68467ccc-d696-4ef1-84c4-164c9d87f755",
      "metadata": {
        "id": "68467ccc-d696-4ef1-84c4-164c9d87f755"
      },
      "outputs": [],
      "source": [
        "# Write a Python program to print the Fibonacci sequence up to n terms. (User input for n)"
      ]
    },
    {
      "cell_type": "code",
      "source": [
        "def fibonacci_sequence(n):\n",
        "  a,b=0,1\n",
        "  count=0\n",
        "  if n<=0:\n",
        "    print(\"fibonacci sequence\")\n",
        "  elif n==1:\n",
        "    print(a)\n",
        "  else:\n",
        "    while count<n:\n",
        "      print(a)\n",
        "      c=a+b\n",
        "      a=b\n",
        "      b=c\n",
        "      count+=1\n",
        "# Call the function with user input\n",
        "n_terms = int(input(\"Enter the number of terms: \"))\n",
        "fibonacci_sequence(n_terms)\n",
        "\n",
        "\n",
        "\n",
        "\"\"\"def fibonacci_sequence(n):\n",
        "    a, b = 0, 1\n",
        "    count = 0\n",
        "\n",
        "    if n <= 0:\n",
        "        print(\"Please enter a positive integer.\")\n",
        "    elif n == 1:\n",
        "        print(f\"Fibonacci sequence up to {n} term:\")\n",
        "        print(a)\n",
        "    else:\n",
        "        print(f\"Fibonacci sequence up to {n} terms:\")\n",
        "        while count < n:\n",
        "            print(a, end=\" \")  # Print the terms in a single line\n",
        "            c = a + b\n",
        "            a = b\n",
        "            b = c\n",
        "            count += 1\n",
        "\n",
        "# Call the function with user input\n",
        "n_terms = int(input(\"Enter the number of terms: \"))\n",
        "fibonacci_sequence(n_terms)\"\"\"\n"
      ],
      "metadata": {
        "id": "MqXychTNmr9l",
        "outputId": "3d3be972-6011-4d86-e4c0-fb37080218b4",
        "colab": {
          "base_uri": "https://localhost:8080/",
          "height": 1000
        }
      },
      "id": "MqXychTNmr9l",
      "execution_count": null,
      "outputs": [
        {
          "output_type": "stream",
          "name": "stdout",
          "text": [
            "Enter the number of terms: 105\n",
            "0\n",
            "1\n",
            "1\n",
            "2\n",
            "3\n",
            "5\n",
            "8\n",
            "13\n",
            "21\n",
            "34\n",
            "55\n",
            "89\n",
            "144\n",
            "233\n",
            "377\n",
            "610\n",
            "987\n",
            "1597\n",
            "2584\n",
            "4181\n",
            "6765\n",
            "10946\n",
            "17711\n",
            "28657\n",
            "46368\n",
            "75025\n",
            "121393\n",
            "196418\n",
            "317811\n",
            "514229\n",
            "832040\n",
            "1346269\n",
            "2178309\n",
            "3524578\n",
            "5702887\n",
            "9227465\n",
            "14930352\n",
            "24157817\n",
            "39088169\n",
            "63245986\n",
            "102334155\n",
            "165580141\n",
            "267914296\n",
            "433494437\n",
            "701408733\n",
            "1134903170\n",
            "1836311903\n",
            "2971215073\n",
            "4807526976\n",
            "7778742049\n",
            "12586269025\n",
            "20365011074\n",
            "32951280099\n",
            "53316291173\n",
            "86267571272\n",
            "139583862445\n",
            "225851433717\n",
            "365435296162\n",
            "591286729879\n",
            "956722026041\n",
            "1548008755920\n",
            "2504730781961\n",
            "4052739537881\n",
            "6557470319842\n",
            "10610209857723\n",
            "17167680177565\n",
            "27777890035288\n",
            "44945570212853\n",
            "72723460248141\n",
            "117669030460994\n",
            "190392490709135\n",
            "308061521170129\n",
            "498454011879264\n",
            "806515533049393\n",
            "1304969544928657\n",
            "2111485077978050\n",
            "3416454622906707\n",
            "5527939700884757\n",
            "8944394323791464\n",
            "14472334024676221\n",
            "23416728348467685\n",
            "37889062373143906\n",
            "61305790721611591\n",
            "99194853094755497\n",
            "160500643816367088\n",
            "259695496911122585\n",
            "420196140727489673\n",
            "679891637638612258\n",
            "1100087778366101931\n",
            "1779979416004714189\n",
            "2880067194370816120\n",
            "4660046610375530309\n",
            "7540113804746346429\n",
            "12200160415121876738\n",
            "19740274219868223167\n",
            "31940434634990099905\n",
            "51680708854858323072\n",
            "83621143489848422977\n",
            "135301852344706746049\n",
            "218922995834555169026\n",
            "354224848179261915075\n",
            "573147844013817084101\n",
            "927372692193078999176\n",
            "1500520536206896083277\n",
            "2427893228399975082453\n"
          ]
        },
        {
          "output_type": "execute_result",
          "data": {
            "text/plain": [
              "'def fibonacci_sequence(n):\\n    a, b = 0, 1\\n    count = 0\\n    \\n    if n <= 0:\\n        print(\"Please enter a positive integer.\")\\n    elif n == 1:\\n        print(f\"Fibonacci sequence up to {n} term:\")\\n        print(a)\\n    else:\\n        print(f\"Fibonacci sequence up to {n} terms:\")\\n        while count < n:\\n            print(a, end=\" \")  # Print the terms in a single line\\n            c = a + b\\n            a = b\\n            b = c\\n            count += 1\\n\\n# Call the function with user input\\nn_terms = int(input(\"Enter the number of terms: \"))\\nfibonacci_sequence(n_terms)'"
            ],
            "application/vnd.google.colaboratory.intrinsic+json": {
              "type": "string"
            }
          },
          "metadata": {},
          "execution_count": 41
        }
      ]
    },
    {
      "cell_type": "code",
      "execution_count": null,
      "id": "5bebd1f3-2606-4102-aa55-01cb1650f632",
      "metadata": {
        "id": "5bebd1f3-2606-4102-aa55-01cb1650f632"
      },
      "outputs": [],
      "source": [
        "# Write a Python program to find all the prime numbers from 1 to 100."
      ]
    },
    {
      "cell_type": "code",
      "source": [
        "def find_primes_up_to_100():\n",
        "    primes = []\n",
        "    is_prime = [True] * (100 + 1)\n",
        "    is_prime[0] = is_prime[1] = False\n",
        "    print(\"Prime numbers from 1 to 100:\")\n",
        "    for num in range(2, 101):\n",
        "        if is_prime[num]:\n",
        "            primes.append(num)\n",
        "            for multiple in range(num * num, 101, num):\n",
        "                is_prime[multiple] = False\n",
        "    return primes\n",
        "\n",
        "# Call the function and print the result\n",
        "prime_numbers = find_primes_up_to_100()\n",
        "print(prime_numbers)\n"
      ],
      "metadata": {
        "id": "Onh3mVltq1cm",
        "outputId": "97458bad-7456-4bb4-cf75-a43706a6df19",
        "colab": {
          "base_uri": "https://localhost:8080/"
        }
      },
      "id": "Onh3mVltq1cm",
      "execution_count": null,
      "outputs": [
        {
          "output_type": "stream",
          "name": "stdout",
          "text": [
            "Prime numbers from 1 to 100:\n",
            "[2, 3, 5, 7, 11, 13, 17, 19, 23, 29, 31, 37, 41, 43, 47, 53, 59, 61, 67, 71, 73, 79, 83, 89, 97]\n"
          ]
        }
      ]
    },
    {
      "cell_type": "code",
      "execution_count": null,
      "id": "0a3f894e-52ba-4c0b-9158-a70f31f4fd49",
      "metadata": {
        "id": "0a3f894e-52ba-4c0b-9158-a70f31f4fd49"
      },
      "outputs": [],
      "source": [
        "# Write a Python program that breaks out of a loop when a specific condition is met (e.g., when a number greater than 50 is found).pr"
      ]
    },
    {
      "cell_type": "code",
      "source": [
        "\"\"\"import random\n",
        "numbers = [random.randint(1, 100) for _ in range(20)]\n",
        "print(\"Generated numbers:\",numbers)\n",
        "for number in numbers:\n",
        "   if number>50:\n",
        "      print(f\"number greater than 50 found:{number}\")\n",
        "     break\n",
        "   else:\n",
        "    print(\"no number greater than 50 found.\")\"\"\"\n",
        "\n",
        "\n",
        "import random\n",
        "\n",
        "# Generate a list of 20 random numbers between 1 and 100\n",
        "numbers = [random.randint(1, 100) for _ in range(20)]\n",
        "print(\"Generated numbers:\", numbers)\n",
        "\n",
        "# Variable to track if a number greater than 50 was found\n",
        "found = False\n",
        "\n",
        "# Loop through the numbers\n",
        "for number in numbers:\n",
        "    if number > 50:\n",
        "        print(f\"Number greater than 50 found: {number}\")\n",
        "        found = True\n",
        "        break  # Exit the loop when a number greater than 50 is found\n",
        "\n",
        "# If no number greater than 50 is found, print a message\n",
        "if not found:\n",
        "    print(\"No number greater than 50 found.\")\n",
        "\n",
        "\n"
      ],
      "metadata": {
        "id": "CnbfEVZss17d",
        "outputId": "4fa735a7-d156-46c9-8f44-06b15f3b31bd",
        "colab": {
          "base_uri": "https://localhost:8080/"
        }
      },
      "id": "CnbfEVZss17d",
      "execution_count": null,
      "outputs": [
        {
          "output_type": "stream",
          "name": "stdout",
          "text": [
            "Generated numbers: [43, 35, 56, 69, 87, 17, 25, 39, 20, 88, 87, 41, 50, 65, 35, 42, 66, 34, 56, 95]\n",
            "Number greater than 50 found: 56\n"
          ]
        }
      ]
    },
    {
      "cell_type": "code",
      "execution_count": null,
      "id": "499b91d0-1f1b-494f-af2b-8cc3a06d90ed",
      "metadata": {
        "id": "499b91d0-1f1b-494f-af2b-8cc3a06d90ed"
      },
      "outputs": [],
      "source": [
        "# Write a Python program to skip even numbers while printing numbers from 1 to 20 using a for loop."
      ]
    },
    {
      "cell_type": "code",
      "source": [
        "print(\"Odd numbers from 1 to 20:\")\n",
        "for number in range(1, 21):\n",
        "    if number % 2 == 0:\n",
        "        continue\n",
        "    print(number,end=' ')"
      ],
      "metadata": {
        "id": "f-8MMfKovcrk",
        "outputId": "10e5a322-4b36-42ea-ffa2-92c468a14b27",
        "colab": {
          "base_uri": "https://localhost:8080/"
        }
      },
      "id": "f-8MMfKovcrk",
      "execution_count": null,
      "outputs": [
        {
          "output_type": "stream",
          "name": "stdout",
          "text": [
            "Odd numbers from 1 to 20:\n",
            "1 3 5 7 9 11 13 15 17 19 "
          ]
        }
      ]
    },
    {
      "cell_type": "code",
      "execution_count": null,
      "id": "f8ffed70-dfde-4262-a2fd-0d35d69b5fb1",
      "metadata": {
        "id": "f8ffed70-dfde-4262-a2fd-0d35d69b5fb1"
      },
      "outputs": [],
      "source": [
        "# Write a Python program to count how many times a particular character appears in a string using a for loop. (User input for string and character)"
      ]
    },
    {
      "cell_type": "code",
      "source": [
        "string=\"minnu\"\n",
        "char_to_count=\"n\"\n",
        "count=0\n",
        "for char in string:\n",
        "  if char==char_to_count:\n",
        "    count+=1\n",
        "print(f\"The character '{char_to_count}' appears {count} times in the string.\")"
      ],
      "metadata": {
        "id": "MpM_Z4qlv4y8",
        "outputId": "afca4122-20c1-4f73-bcff-0356872edfc0",
        "colab": {
          "base_uri": "https://localhost:8080/"
        }
      },
      "id": "MpM_Z4qlv4y8",
      "execution_count": null,
      "outputs": [
        {
          "output_type": "stream",
          "name": "stdout",
          "text": [
            "The character 'n' appears 2 times in the string.\n"
          ]
        }
      ]
    },
    {
      "cell_type": "code",
      "execution_count": null,
      "id": "01f976ed-4dcd-4842-ae84-d3b5cc42d011",
      "metadata": {
        "id": "01f976ed-4dcd-4842-ae84-d3b5cc42d011"
      },
      "outputs": [],
      "source": [
        "# Write a Python program to calculate the sum of digits of a number. (User input for the number)"
      ]
    },
    {
      "cell_type": "code",
      "source": [
        "num=\"40\"\n",
        "sum_of_digits=0\n",
        "for digit in num:\n",
        "  sum_of_digits+=int(digit)\n",
        "print(\"Sum of digits:\",sum_of_digits)"
      ],
      "metadata": {
        "id": "xdheeNDEwYg0",
        "outputId": "cecf38f6-f78c-4386-9295-41c7515e8b63",
        "colab": {
          "base_uri": "https://localhost:8080/"
        }
      },
      "id": "xdheeNDEwYg0",
      "execution_count": null,
      "outputs": [
        {
          "output_type": "stream",
          "name": "stdout",
          "text": [
            "Sum of digits: 4\n"
          ]
        }
      ]
    },
    {
      "cell_type": "markdown",
      "id": "fe644fae-f262-48dd-b7ff-08eb747d297e",
      "metadata": {
        "id": "fe644fae-f262-48dd-b7ff-08eb747d297e"
      },
      "source": [
        "## Data Structures (Lists, Tuples, Sets, Dictionaries)"
      ]
    },
    {
      "cell_type": "code",
      "execution_count": null,
      "id": "a0333c26-8e19-4c71-9722-d32cf8625ef6",
      "metadata": {
        "id": "a0333c26-8e19-4c71-9722-d32cf8625ef6"
      },
      "outputs": [],
      "source": [
        "# Write a Python program to create a list of integers and print the sum of the elements."
      ]
    },
    {
      "cell_type": "code",
      "source": [
        "numbers=[10,20,30,40,50]\n",
        "integers_list=list(numbers)\n",
        "print(\"List of integers:\",integers_list)"
      ],
      "metadata": {
        "id": "2JyjvHSFwuM8",
        "outputId": "8592a0b4-dbaf-4491-cdda-2c1def368a1e",
        "colab": {
          "base_uri": "https://localhost:8080/"
        }
      },
      "id": "2JyjvHSFwuM8",
      "execution_count": null,
      "outputs": [
        {
          "output_type": "stream",
          "name": "stdout",
          "text": [
            "List of integers: [10, 20, 30, 40, 50]\n"
          ]
        }
      ]
    },
    {
      "cell_type": "code",
      "execution_count": null,
      "id": "5a23046d-80b0-4f8d-a02f-4e3d833c0443",
      "metadata": {
        "id": "5a23046d-80b0-4f8d-a02f-4e3d833c0443"
      },
      "outputs": [],
      "source": [
        "# Write a Python program to find the largest element in a list."
      ]
    },
    {
      "cell_type": "code",
      "source": [
        "numbers=[10,20,30,40,50]\n",
        "largest_element=max(numbers)\n",
        "print(\"Largest element:\",largest_element)"
      ],
      "metadata": {
        "id": "gWftEuq0x5kn",
        "outputId": "8cff88bf-3df1-4e79-a234-93b93751b5bd",
        "colab": {
          "base_uri": "https://localhost:8080/"
        }
      },
      "id": "gWftEuq0x5kn",
      "execution_count": null,
      "outputs": [
        {
          "output_type": "stream",
          "name": "stdout",
          "text": [
            "Largest element: 50\n"
          ]
        }
      ]
    },
    {
      "cell_type": "code",
      "execution_count": null,
      "id": "9939c2d2-90fd-4e80-81bc-227c72e60e37",
      "metadata": {
        "id": "9939c2d2-90fd-4e80-81bc-227c72e60e37"
      },
      "outputs": [],
      "source": [
        "# Write a Python program to reverse a list."
      ]
    },
    {
      "cell_type": "code",
      "source": [
        "numbers=[10,20,30,40,50]\n",
        "reversed_list=numbers[::-1]\n",
        "print(\"Reversed list:\",reversed_list)"
      ],
      "metadata": {
        "id": "pvABTspTyL_G",
        "outputId": "3d2d5629-b9ea-46ce-ac5a-859c11302954",
        "colab": {
          "base_uri": "https://localhost:8080/"
        }
      },
      "id": "pvABTspTyL_G",
      "execution_count": null,
      "outputs": [
        {
          "output_type": "stream",
          "name": "stdout",
          "text": [
            "Reversed list: [50, 40, 30, 20, 10]\n"
          ]
        }
      ]
    },
    {
      "cell_type": "code",
      "execution_count": null,
      "id": "aa287db8-057b-48d4-a6d8-18cc53eb7178",
      "metadata": {
        "id": "aa287db8-057b-48d4-a6d8-18cc53eb7178"
      },
      "outputs": [],
      "source": [
        "# Write a Python program to remove all occurrences of a specific element from a list."
      ]
    },
    {
      "cell_type": "code",
      "source": [
        "numbers=[10,20,30,40,50]\n",
        "specific_element=20\n",
        "modified_list=[num for num in numbers if num!=specific_element]\n",
        "print(\"Modified list:\",modified_list)"
      ],
      "metadata": {
        "id": "iqmZQlLo1aJZ",
        "outputId": "991c1f77-d20d-4bb4-b177-866c6c838f70",
        "colab": {
          "base_uri": "https://localhost:8080/"
        }
      },
      "id": "iqmZQlLo1aJZ",
      "execution_count": null,
      "outputs": [
        {
          "output_type": "stream",
          "name": "stdout",
          "text": [
            "Modified list: [10, 30, 40, 50]\n"
          ]
        }
      ]
    },
    {
      "cell_type": "code",
      "execution_count": null,
      "id": "da9ba926-0ab5-46e9-b66d-128088c3225b",
      "metadata": {
        "id": "da9ba926-0ab5-46e9-b66d-128088c3225b"
      },
      "outputs": [],
      "source": [
        "# Write a Python program to find the index of an element in a list."
      ]
    },
    {
      "cell_type": "code",
      "source": [
        "numbers=[10,20,30,40,50]\n",
        "element_to_find=30\n",
        "index_of_element=numbers.index(element_to_find)\n",
        "print(\"Index of element:\",index_of_element)"
      ],
      "metadata": {
        "id": "2qPeWQs71zZn",
        "outputId": "16a99958-91f5-41af-a510-822f1fbf0b10",
        "colab": {
          "base_uri": "https://localhost:8080/"
        }
      },
      "id": "2qPeWQs71zZn",
      "execution_count": null,
      "outputs": [
        {
          "output_type": "stream",
          "name": "stdout",
          "text": [
            "Index of element: 2\n"
          ]
        }
      ]
    },
    {
      "cell_type": "code",
      "execution_count": null,
      "id": "9601b6e4-cb90-4e1f-87b4-38ed37076e0d",
      "metadata": {
        "id": "9601b6e4-cb90-4e1f-87b4-38ed37076e0d"
      },
      "outputs": [],
      "source": [
        "# Write a Python program to find if a specific element exists in a list."
      ]
    },
    {
      "cell_type": "code",
      "source": [
        "numbers=[10,20,30,40,50]\n",
        "specific_element=25\n",
        "if specific_element in numbers:\n",
        "  print(\"The specific element exists in the list.\")\n",
        "else:\n",
        "  print(\"The specific element does not exist in the list.\")"
      ],
      "metadata": {
        "id": "_zVmk5Lj2OS0",
        "outputId": "64260d3d-077b-40da-cc46-cade01c14425",
        "colab": {
          "base_uri": "https://localhost:8080/"
        }
      },
      "id": "_zVmk5Lj2OS0",
      "execution_count": null,
      "outputs": [
        {
          "output_type": "stream",
          "name": "stdout",
          "text": [
            "The specific element does not exist in the list.\n"
          ]
        }
      ]
    },
    {
      "cell_type": "code",
      "execution_count": null,
      "id": "9d8e7311-81de-4da2-826c-c4dcad28ed9f",
      "metadata": {
        "id": "9d8e7311-81de-4da2-826c-c4dcad28ed9f"
      },
      "outputs": [],
      "source": [
        "# Write a Python program to remove duplicates from a list."
      ]
    },
    {
      "cell_type": "code",
      "source": [
        "numbers=[10,20,30,40,50]\n",
        "unique_elements=list(set(numbers))\n",
        "print(\"List without duplicates:\",unique_elements)"
      ],
      "metadata": {
        "id": "JqGytmBi2doD",
        "outputId": "99c8e1b5-4e29-4dc5-8237-4b9a25e8bdf6",
        "colab": {
          "base_uri": "https://localhost:8080/"
        }
      },
      "id": "JqGytmBi2doD",
      "execution_count": null,
      "outputs": [
        {
          "output_type": "stream",
          "name": "stdout",
          "text": [
            "List without duplicates: [40, 10, 50, 20, 30]\n"
          ]
        }
      ]
    },
    {
      "cell_type": "code",
      "execution_count": null,
      "id": "09e5121b-97b3-42e4-8025-f28f3470681b",
      "metadata": {
        "id": "09e5121b-97b3-42e4-8025-f28f3470681b"
      },
      "outputs": [],
      "source": [
        "# Write a Python program to count the occurrences of an element in a list."
      ]
    },
    {
      "cell_type": "code",
      "source": [
        "numbers=[10,20,30,40,50]\n",
        "element_to_count=20\n",
        "count_of_element=numbers.count(element_to_count)\n",
        "print(\"Count of element:\",count_of_element)"
      ],
      "metadata": {
        "id": "b-REPv_p3N1X",
        "outputId": "a06142e9-589e-456c-82de-c4318c6f3bf3",
        "colab": {
          "base_uri": "https://localhost:8080/"
        }
      },
      "id": "b-REPv_p3N1X",
      "execution_count": null,
      "outputs": [
        {
          "output_type": "stream",
          "name": "stdout",
          "text": [
            "Count of element: 1\n"
          ]
        }
      ]
    },
    {
      "cell_type": "code",
      "execution_count": null,
      "id": "b774b741-e9a6-45db-8f00-e6d9b734d03a",
      "metadata": {
        "id": "b774b741-e9a6-45db-8f00-e6d9b734d03a"
      },
      "outputs": [],
      "source": [
        "# Write a Python program to get the number of even numbers in a list."
      ]
    },
    {
      "cell_type": "code",
      "source": [
        "numbers=[10,20,30,40,50]\n",
        "even_numbers=[num for num in numbers if num%2==0]\n",
        "count_of_even_numbers=len(even_numbers)\n",
        "print(\"Count of even numbers:\",count_of_even_numbers)"
      ],
      "metadata": {
        "id": "cAvaRmLt3S27",
        "outputId": "e570c01f-ebf2-459c-84e9-bae74f76c729",
        "colab": {
          "base_uri": "https://localhost:8080/"
        }
      },
      "id": "cAvaRmLt3S27",
      "execution_count": null,
      "outputs": [
        {
          "output_type": "stream",
          "name": "stdout",
          "text": [
            "Count of even numbers: 5\n"
          ]
        }
      ]
    },
    {
      "cell_type": "code",
      "execution_count": null,
      "id": "5ce4fd2b-ab16-4b40-9ac2-d19c244d8d96",
      "metadata": {
        "id": "5ce4fd2b-ab16-4b40-9ac2-d19c244d8d96"
      },
      "outputs": [],
      "source": [
        "# Write a Python program to create a tuple and print it."
      ]
    },
    {
      "cell_type": "code",
      "source": [
        "numbers=(10,20,30,40,50)\n",
        "print(\"Tuple:\",numbers)"
      ],
      "metadata": {
        "id": "Ifgq_LI03aQ7",
        "outputId": "ad23485b-625c-41ac-bc6d-5bf3163b527a",
        "colab": {
          "base_uri": "https://localhost:8080/"
        }
      },
      "id": "Ifgq_LI03aQ7",
      "execution_count": null,
      "outputs": [
        {
          "output_type": "stream",
          "name": "stdout",
          "text": [
            "Tuple: (10, 20, 30, 40, 50)\n"
          ]
        }
      ]
    },
    {
      "cell_type": "code",
      "execution_count": null,
      "id": "5c04f880-6e96-4ef4-9f4b-df21aae76ff1",
      "metadata": {
        "id": "5c04f880-6e96-4ef4-9f4b-df21aae76ff1"
      },
      "outputs": [],
      "source": [
        "# Write a Python program to convert a tuple to a list and vice versa."
      ]
    },
    {
      "cell_type": "code",
      "source": [
        "tuple_data=(1,2,3,4,5)\n",
        "list_from_tuple=list(tuple_data)\n",
        "list_data=(10,20,30,40,50)\n",
        "tuple_from_list=tuple(list_data)\n",
        "print(\"Original Tuple:\", tuple_data)\n",
        "print(\"Converted List from Tuple:\", list_from_tuple)\n",
        "print(\"Original List:\", list_data)\n",
        "print(\"Converted Tuple from List:\", tuple_from_list)"
      ],
      "metadata": {
        "id": "RX3UrZVz3epT",
        "outputId": "2086a8f6-4cb2-46da-f663-757a4e406184",
        "colab": {
          "base_uri": "https://localhost:8080/"
        }
      },
      "id": "RX3UrZVz3epT",
      "execution_count": null,
      "outputs": [
        {
          "output_type": "stream",
          "name": "stdout",
          "text": [
            "Original Tuple: (1, 2, 3, 4, 5)\n",
            "Converted List from Tuple: [1, 2, 3, 4, 5]\n",
            "Original List: (10, 20, 30, 40, 50)\n",
            "Converted Tuple from List: (10, 20, 30, 40, 50)\n"
          ]
        }
      ]
    },
    {
      "cell_type": "code",
      "execution_count": null,
      "id": "d5192acc-27f3-456e-9c72-3b276a587bf5",
      "metadata": {
        "id": "d5192acc-27f3-456e-9c72-3b276a587bf5"
      },
      "outputs": [],
      "source": [
        "# Write a Python program to find the maximum and minimum values in a tuple."
      ]
    },
    {
      "cell_type": "code",
      "source": [
        "tuple_data=(10,20,30,40,50)\n",
        "max_value=max(tuple_data)\n",
        "min_value=min(tuple_data)\n",
        "print(\"Maximum value:\", max_value)\n",
        "print(\"Minimum value:\", min_value)"
      ],
      "metadata": {
        "id": "bk9jMjlq5JOz",
        "outputId": "a6e27aa7-c19b-47d5-d602-c4c875eccf97",
        "colab": {
          "base_uri": "https://localhost:8080/"
        }
      },
      "id": "bk9jMjlq5JOz",
      "execution_count": null,
      "outputs": [
        {
          "output_type": "stream",
          "name": "stdout",
          "text": [
            "Maximum value: 50\n",
            "Minimum value: 10\n"
          ]
        }
      ]
    },
    {
      "cell_type": "code",
      "execution_count": null,
      "id": "43f0a340-9407-4302-af7e-4e63db578bbf",
      "metadata": {
        "id": "43f0a340-9407-4302-af7e-4e63db578bbf"
      },
      "outputs": [],
      "source": [
        "# Write a Python program to unpack a tuple into variables."
      ]
    },
    {
      "cell_type": "code",
      "source": [
        "tuple_data=(1,2,3)\n",
        "var1,var2,var3=tuple_data\n",
        "print(\"Variable 1:\", var1)\n",
        "print(\"Variable 2:\", var2)\n",
        "print(\"Variable 3:\", var3)"
      ],
      "metadata": {
        "id": "R0vYRpOk5PxO",
        "outputId": "171ac31f-e2e1-4a0e-9597-fc172f2bafd7",
        "colab": {
          "base_uri": "https://localhost:8080/"
        }
      },
      "id": "R0vYRpOk5PxO",
      "execution_count": null,
      "outputs": [
        {
          "output_type": "stream",
          "name": "stdout",
          "text": [
            "Variable 1: 1\n",
            "Variable 2: 2\n",
            "Variable 3: 3\n"
          ]
        }
      ]
    },
    {
      "cell_type": "code",
      "execution_count": null,
      "id": "46e96e29-2157-4b9f-bb24-0bd973eada9f",
      "metadata": {
        "id": "46e96e29-2157-4b9f-bb24-0bd973eada9f"
      },
      "outputs": [],
      "source": [
        "# Write a Python program to add an element to a set and check if an element exists in the set."
      ]
    },
    {
      "cell_type": "code",
      "source": [
        "my_set={1,2,3,4,5}\n",
        "element_to_add=6\n",
        "my_set.add(element_to_add)\n",
        "print(\"Updated set:\", my_set)\n",
        "element_to_check=4\n",
        "if element_to_check in my_set:\n",
        "  print(\"Element exists in the set.\")\n",
        "else:\n",
        "  print(\"Element does not exist in the set.\")"
      ],
      "metadata": {
        "id": "DZt5LtD65Y9F",
        "outputId": "cb5269ed-571e-4158-b972-90cfa5551a5a",
        "colab": {
          "base_uri": "https://localhost:8080/"
        }
      },
      "id": "DZt5LtD65Y9F",
      "execution_count": null,
      "outputs": [
        {
          "output_type": "stream",
          "name": "stdout",
          "text": [
            "Updated set: {1, 2, 3, 4, 5, 6}\n",
            "Element exists in the set.\n"
          ]
        }
      ]
    },
    {
      "cell_type": "code",
      "execution_count": null,
      "id": "d81a803b-fd80-403e-9ae3-680ef44a3d86",
      "metadata": {
        "id": "d81a803b-fd80-403e-9ae3-680ef44a3d86"
      },
      "outputs": [],
      "source": [
        "# Write a Python program to create a dictionary with keys and values and print it."
      ]
    },
    {
      "cell_type": "code",
      "source": [
        "my_dict={\n",
        "    \"name\":\"usha\",\n",
        "    \"age\":19,\n",
        "    \"city\":\"warangal\"\n",
        "}\n",
        "print(\"Dictionary:\", my_dict)"
      ],
      "metadata": {
        "id": "4PQub_025_D9",
        "outputId": "1a50c9cc-5aff-409e-aa31-ab419832c3b3",
        "colab": {
          "base_uri": "https://localhost:8080/"
        }
      },
      "id": "4PQub_025_D9",
      "execution_count": null,
      "outputs": [
        {
          "output_type": "stream",
          "name": "stdout",
          "text": [
            "Dictionary: {'name': 'usha', 'age': 19, 'city': 'warangal'}\n"
          ]
        }
      ]
    },
    {
      "cell_type": "code",
      "execution_count": null,
      "id": "7432174b-fe75-4371-b23a-e2c5d62edb15",
      "metadata": {
        "id": "7432174b-fe75-4371-b23a-e2c5d62edb15"
      },
      "outputs": [],
      "source": [
        "# Write a Python program to access a dictionary value using a key."
      ]
    },
    {
      "cell_type": "code",
      "source": [
        "my_dict={\n",
        "    \"name\":\"usha\",\n",
        "    \"age\":19,\n",
        "    \"city\":\"warangal\"\n",
        "}\n",
        "name_value=my_dict[\"name\"]\n",
        "print(\"Value of 'name':\", name_value)"
      ],
      "metadata": {
        "id": "9YDaGPbR6WWg",
        "outputId": "6fa807df-e838-47fc-b19e-5c669e2ababa",
        "colab": {
          "base_uri": "https://localhost:8080/"
        }
      },
      "id": "9YDaGPbR6WWg",
      "execution_count": null,
      "outputs": [
        {
          "output_type": "stream",
          "name": "stdout",
          "text": [
            "Value of 'name': usha\n"
          ]
        }
      ]
    },
    {
      "cell_type": "code",
      "execution_count": null,
      "id": "000b3260-d91f-41f2-9729-4b0124f2c4d2",
      "metadata": {
        "id": "000b3260-d91f-41f2-9729-4b0124f2c4d2"
      },
      "outputs": [],
      "source": [
        "# Write a Python program to check if a key exists in a dictionary."
      ]
    },
    {
      "cell_type": "code",
      "source": [
        "my_dict={\n",
        "    \"name\":\"usha\",\n",
        "    \"age\":19,\n",
        "    \"city\":\"warangal\"\n",
        "}\n",
        "key_to_check=\"age\"\n",
        "if key_to_check in my_dict:\n",
        "  print(\"Key exists in the dictionary.\")"
      ],
      "metadata": {
        "id": "hnOQDn4f6pQ8",
        "outputId": "51843657-b9b1-4331-ea06-d1924e3648e3",
        "colab": {
          "base_uri": "https://localhost:8080/"
        }
      },
      "id": "hnOQDn4f6pQ8",
      "execution_count": null,
      "outputs": [
        {
          "output_type": "stream",
          "name": "stdout",
          "text": [
            "Key exists in the dictionary.\n"
          ]
        }
      ]
    },
    {
      "cell_type": "code",
      "execution_count": null,
      "id": "c4b1a942-818e-42c1-b742-1fabe80fca6d",
      "metadata": {
        "id": "c4b1a942-818e-42c1-b742-1fabe80fca6d"
      },
      "outputs": [],
      "source": [
        "# Write a Python program to merge two dictionaries."
      ]
    },
    {
      "cell_type": "code",
      "source": [
        "dict1={\n",
        "    \"name\":\"usha\",\n",
        "    \"age\":19,\n",
        "}\n",
        "dict2={\n",
        "    \"city\":\"warangal\",\n",
        "    \"state\":\"telangana\"\n",
        "}\n",
        "merged_dict={**dict1,**dict2}\n",
        "print(\"Merged dictionary:\", merged_dict)"
      ],
      "metadata": {
        "id": "Yytkx6eK6yt4",
        "outputId": "442e2739-c15d-420b-ac5e-5a1a6d5a1369",
        "colab": {
          "base_uri": "https://localhost:8080/"
        }
      },
      "id": "Yytkx6eK6yt4",
      "execution_count": null,
      "outputs": [
        {
          "output_type": "stream",
          "name": "stdout",
          "text": [
            "Merged dictionary: {'name': 'usha', 'age': 19, 'city': 'warangal', 'state': 'telangana'}\n"
          ]
        }
      ]
    },
    {
      "cell_type": "code",
      "execution_count": null,
      "id": "a78f1070-3ff3-436a-8391-153f019f53cd",
      "metadata": {
        "id": "a78f1070-3ff3-436a-8391-153f019f53cd"
      },
      "outputs": [],
      "source": [
        "# Write a Python program to remove a key from a dictionary."
      ]
    },
    {
      "cell_type": "code",
      "source": [
        "dict={\n",
        "    \"name\":\"usha\",\n",
        "    \"age\":19,\n",
        "    \"city\":\"warangal\"\n",
        "}\n",
        "del dict[\"age\"]\n",
        "print(\"Updated dictionary:\", dict)"
      ],
      "metadata": {
        "id": "Tgi-kWNe7L22",
        "outputId": "4ae284fb-e642-49d5-b985-28bb5c100102",
        "colab": {
          "base_uri": "https://localhost:8080/"
        }
      },
      "id": "Tgi-kWNe7L22",
      "execution_count": null,
      "outputs": [
        {
          "output_type": "stream",
          "name": "stdout",
          "text": [
            "Updated dictionary: {'name': 'usha', 'city': 'warangal'}\n"
          ]
        }
      ]
    },
    {
      "cell_type": "code",
      "execution_count": null,
      "id": "fcba0267-8cc4-4e89-9e78-2d820916c177",
      "metadata": {
        "id": "fcba0267-8cc4-4e89-9e78-2d820916c177"
      },
      "outputs": [],
      "source": [
        "# Write a Python program to get the number of keys in a dictionary."
      ]
    },
    {
      "cell_type": "code",
      "source": [
        "dict={\n",
        "    \"name\":\"usha\",\n",
        "    \"age\":19,\n",
        "    \"city\":\"warangal\"\n",
        "}\n",
        "num_keys=len(dict)\n",
        "print(\"Number of keys:\", num_keys)"
      ],
      "metadata": {
        "id": "y2kP2YPW7STx",
        "outputId": "7a7d4d70-4d74-4824-d948-469bfb3f4158",
        "colab": {
          "base_uri": "https://localhost:8080/"
        }
      },
      "id": "y2kP2YPW7STx",
      "execution_count": null,
      "outputs": [
        {
          "output_type": "stream",
          "name": "stdout",
          "text": [
            "Number of keys: 3\n"
          ]
        }
      ]
    },
    {
      "cell_type": "code",
      "execution_count": null,
      "id": "d4c5fd77-9656-43e5-8fe2-be7dca23eb6d",
      "metadata": {
        "id": "d4c5fd77-9656-43e5-8fe2-be7dca23eb6d"
      },
      "outputs": [],
      "source": [
        "# Write a Python program to find the largest and smallest values in a dictionary."
      ]
    },
    {
      "cell_type": "code",
      "source": [
        "my_dict={\n",
        "    \"a\":20,\n",
        "    \"b\":30,\n",
        "    \"c\":40,\n",
        "    \"d\":50,\n",
        "    \"e\":60\n",
        "}\n",
        "largest_value=max(my_dict.values())\n",
        "smallest_value=min(my_dict.values())\n",
        "print(\"Largest value:\", largest_value)\n",
        "print(\"Smallest value:\", smallest_value)"
      ],
      "metadata": {
        "id": "BvKgZErC7Xt8",
        "outputId": "ad36ca97-64d7-4ac9-857a-e79d783bc569",
        "colab": {
          "base_uri": "https://localhost:8080/"
        }
      },
      "id": "BvKgZErC7Xt8",
      "execution_count": null,
      "outputs": [
        {
          "output_type": "stream",
          "name": "stdout",
          "text": [
            "Largest value: 60\n",
            "Smallest value: 20\n"
          ]
        }
      ]
    },
    {
      "cell_type": "markdown",
      "id": "7830b8cc-9a90-45a2-8e4a-6f3c2b8b133b",
      "metadata": {
        "id": "7830b8cc-9a90-45a2-8e4a-6f3c2b8b133b"
      },
      "source": [
        "## Functions (User-Defined, Arguments, Keyword Arguments, Return Values)"
      ]
    },
    {
      "cell_type": "code",
      "execution_count": null,
      "id": "06a33fba-c6b1-4989-90f4-b647d1fe1627",
      "metadata": {
        "id": "06a33fba-c6b1-4989-90f4-b647d1fe1627"
      },
      "outputs": [],
      "source": [
        "# Write a Python function that returns the square of a number."
      ]
    },
    {
      "cell_type": "markdown",
      "source": [],
      "metadata": {
        "id": "Mo9enBlw91IH"
      },
      "id": "Mo9enBlw91IH"
    },
    {
      "cell_type": "code",
      "source": [
        "def square(number):\n",
        "  return number**2\n",
        "  num=int(\"50\")\n",
        "  result=square(num)\n",
        "  print(f\"the square of {num} is {result}.\")"
      ],
      "metadata": {
        "id": "VahbTFk38Y15"
      },
      "id": "VahbTFk38Y15",
      "execution_count": null,
      "outputs": []
    },
    {
      "cell_type": "code",
      "execution_count": null,
      "id": "91d90a4a-7329-45db-893b-caed8450ba96",
      "metadata": {
        "id": "91d90a4a-7329-45db-893b-caed8450ba96"
      },
      "outputs": [],
      "source": [
        "# Write a Python function that accepts two parameters and returns their sum."
      ]
    },
    {
      "cell_type": "code",
      "source": [],
      "metadata": {
        "id": "JPJ8hlW4-ckJ",
        "outputId": "4b712ef0-5778-40d9-98c0-1abd629af0c5",
        "colab": {
          "base_uri": "https://localhost:8080/",
          "height": 158
        }
      },
      "id": "JPJ8hlW4-ckJ",
      "execution_count": null,
      "outputs": [
        {
          "output_type": "error",
          "ename": "NameError",
          "evalue": "name 'add_numbers' is not defined",
          "traceback": [
            "\u001b[0;31m---------------------------------------------------------------------------\u001b[0m",
            "\u001b[0;31mNameError\u001b[0m                                 Traceback (most recent call last)",
            "\u001b[0;32m<ipython-input-120-0a4665d834ba>\u001b[0m in \u001b[0;36m<cell line: 1>\u001b[0;34m()\u001b[0m\n\u001b[0;32m----> 1\u001b[0;31m \u001b[0mresult\u001b[0m \u001b[0;34m=\u001b[0m \u001b[0madd_numbers\u001b[0m\u001b[0;34m(\u001b[0m\u001b[0;36m3\u001b[0m\u001b[0;34m,\u001b[0m\u001b[0;36m5\u001b[0m\u001b[0;34m)\u001b[0m\u001b[0;34m\u001b[0m\u001b[0;34m\u001b[0m\u001b[0m\n\u001b[0m\u001b[1;32m      2\u001b[0m \u001b[0mprint\u001b[0m\u001b[0;34m(\u001b[0m\u001b[0mresult\u001b[0m\u001b[0;34m)\u001b[0m\u001b[0;34m\u001b[0m\u001b[0;34m\u001b[0m\u001b[0m\n",
            "\u001b[0;31mNameError\u001b[0m: name 'add_numbers' is not defined"
          ]
        }
      ]
    },
    {
      "cell_type": "code",
      "execution_count": null,
      "id": "dec2f9a5-90c5-478b-890b-0a506ecf45d3",
      "metadata": {
        "id": "dec2f9a5-90c5-478b-890b-0a506ecf45d3"
      },
      "outputs": [],
      "source": [
        "# Write a Python function to check if a given number is prime."
      ]
    },
    {
      "cell_type": "code",
      "source": [],
      "metadata": {
        "id": "4ObXsQ8__hse",
        "outputId": "7598ee2a-30c2-4493-a155-66f1f6361686",
        "colab": {
          "base_uri": "https://localhost:8080/",
          "height": 356
        }
      },
      "id": "4ObXsQ8__hse",
      "execution_count": 126,
      "outputs": [
        {
          "output_type": "error",
          "ename": "KeyboardInterrupt",
          "evalue": "Interrupted by user",
          "traceback": [
            "\u001b[0;31m---------------------------------------------------------------------------\u001b[0m",
            "\u001b[0;31mKeyboardInterrupt\u001b[0m                         Traceback (most recent call last)",
            "\u001b[0;32m<ipython-input-126-1f28cbcf31ba>\u001b[0m in \u001b[0;36m<cell line: 10>\u001b[0;34m()\u001b[0m\n\u001b[1;32m      8\u001b[0m \u001b[0;34m\u001b[0m\u001b[0m\n\u001b[1;32m      9\u001b[0m \u001b[0;31m# Get user input and check if the number is prime\u001b[0m\u001b[0;34m\u001b[0m\u001b[0;34m\u001b[0m\u001b[0m\n\u001b[0;32m---> 10\u001b[0;31m \u001b[0mnum\u001b[0m \u001b[0;34m=\u001b[0m \u001b[0mint\u001b[0m\u001b[0;34m(\u001b[0m\u001b[0minput\u001b[0m\u001b[0;34m(\u001b[0m\u001b[0;34m\"15 \"\u001b[0m\u001b[0;34m)\u001b[0m\u001b[0;34m)\u001b[0m\u001b[0;34m\u001b[0m\u001b[0;34m\u001b[0m\u001b[0m\n\u001b[0m\u001b[1;32m     11\u001b[0m \u001b[0;32mif\u001b[0m \u001b[0mis_prime\u001b[0m\u001b[0;34m(\u001b[0m\u001b[0mnum\u001b[0m\u001b[0;34m)\u001b[0m\u001b[0;34m:\u001b[0m\u001b[0;34m\u001b[0m\u001b[0;34m\u001b[0m\u001b[0m\n\u001b[1;32m     12\u001b[0m     \u001b[0mprint\u001b[0m\u001b[0;34m(\u001b[0m\u001b[0;34mf\"{num} is a prime number.\"\u001b[0m\u001b[0;34m)\u001b[0m\u001b[0;34m\u001b[0m\u001b[0;34m\u001b[0m\u001b[0m\n",
            "\u001b[0;32m/usr/local/lib/python3.10/dist-packages/ipykernel/kernelbase.py\u001b[0m in \u001b[0;36mraw_input\u001b[0;34m(self, prompt)\u001b[0m\n\u001b[1;32m    849\u001b[0m                 \u001b[0;34m\"raw_input was called, but this frontend does not support input requests.\"\u001b[0m\u001b[0;34m\u001b[0m\u001b[0;34m\u001b[0m\u001b[0m\n\u001b[1;32m    850\u001b[0m             )\n\u001b[0;32m--> 851\u001b[0;31m         return self._input_request(str(prompt),\n\u001b[0m\u001b[1;32m    852\u001b[0m             \u001b[0mself\u001b[0m\u001b[0;34m.\u001b[0m\u001b[0m_parent_ident\u001b[0m\u001b[0;34m,\u001b[0m\u001b[0;34m\u001b[0m\u001b[0;34m\u001b[0m\u001b[0m\n\u001b[1;32m    853\u001b[0m             \u001b[0mself\u001b[0m\u001b[0;34m.\u001b[0m\u001b[0m_parent_header\u001b[0m\u001b[0;34m,\u001b[0m\u001b[0;34m\u001b[0m\u001b[0;34m\u001b[0m\u001b[0m\n",
            "\u001b[0;32m/usr/local/lib/python3.10/dist-packages/ipykernel/kernelbase.py\u001b[0m in \u001b[0;36m_input_request\u001b[0;34m(self, prompt, ident, parent, password)\u001b[0m\n\u001b[1;32m    893\u001b[0m             \u001b[0;32mexcept\u001b[0m \u001b[0mKeyboardInterrupt\u001b[0m\u001b[0;34m:\u001b[0m\u001b[0;34m\u001b[0m\u001b[0;34m\u001b[0m\u001b[0m\n\u001b[1;32m    894\u001b[0m                 \u001b[0;31m# re-raise KeyboardInterrupt, to truncate traceback\u001b[0m\u001b[0;34m\u001b[0m\u001b[0;34m\u001b[0m\u001b[0m\n\u001b[0;32m--> 895\u001b[0;31m                 \u001b[0;32mraise\u001b[0m \u001b[0mKeyboardInterrupt\u001b[0m\u001b[0;34m(\u001b[0m\u001b[0;34m\"Interrupted by user\"\u001b[0m\u001b[0;34m)\u001b[0m \u001b[0;32mfrom\u001b[0m \u001b[0;32mNone\u001b[0m\u001b[0;34m\u001b[0m\u001b[0;34m\u001b[0m\u001b[0m\n\u001b[0m\u001b[1;32m    896\u001b[0m             \u001b[0;32mexcept\u001b[0m \u001b[0mException\u001b[0m \u001b[0;32mas\u001b[0m \u001b[0me\u001b[0m\u001b[0;34m:\u001b[0m\u001b[0;34m\u001b[0m\u001b[0;34m\u001b[0m\u001b[0m\n\u001b[1;32m    897\u001b[0m                 \u001b[0mself\u001b[0m\u001b[0;34m.\u001b[0m\u001b[0mlog\u001b[0m\u001b[0;34m.\u001b[0m\u001b[0mwarning\u001b[0m\u001b[0;34m(\u001b[0m\u001b[0;34m\"Invalid Message:\"\u001b[0m\u001b[0;34m,\u001b[0m \u001b[0mexc_info\u001b[0m\u001b[0;34m=\u001b[0m\u001b[0;32mTrue\u001b[0m\u001b[0;34m)\u001b[0m\u001b[0;34m\u001b[0m\u001b[0;34m\u001b[0m\u001b[0m\n",
            "\u001b[0;31mKeyboardInterrupt\u001b[0m: Interrupted by user"
          ]
        }
      ]
    },
    {
      "cell_type": "code",
      "execution_count": null,
      "id": "56337441-68c3-45df-8733-a34cde0533a5",
      "metadata": {
        "id": "56337441-68c3-45df-8733-a34cde0533a5"
      },
      "outputs": [],
      "source": [
        "# Write a Python function to calculate the factorial of a number using recursion."
      ]
    },
    {
      "cell_type": "code",
      "source": [
        "def factorial_recursive(n):\n",
        "    if n == 0:\n",
        "        return 1\n",
        "    else:\n",
        "        return n * factorial_recursive(n - 1)\n",
        "\n",
        "# Get user input and calculate the factorial\n",
        "num = int(input(\"120 \"))\n",
        "result = factorial_recursive(num)\n",
        "print(f\"The factorial of {num} is {result}.\")"
      ],
      "metadata": {
        "id": "FZjbVkQQBCTt",
        "outputId": "949346aa-9b78-465a-f3ab-39b5275396f3",
        "colab": {
          "base_uri": "https://localhost:8080/",
          "height": 356
        }
      },
      "id": "FZjbVkQQBCTt",
      "execution_count": 127,
      "outputs": [
        {
          "output_type": "error",
          "ename": "KeyboardInterrupt",
          "evalue": "Interrupted by user",
          "traceback": [
            "\u001b[0;31m---------------------------------------------------------------------------\u001b[0m",
            "\u001b[0;31mKeyboardInterrupt\u001b[0m                         Traceback (most recent call last)",
            "\u001b[0;32m<ipython-input-127-85fee727d8d5>\u001b[0m in \u001b[0;36m<cell line: 8>\u001b[0;34m()\u001b[0m\n\u001b[1;32m      6\u001b[0m \u001b[0;34m\u001b[0m\u001b[0m\n\u001b[1;32m      7\u001b[0m \u001b[0;31m# Get user input and calculate the factorial\u001b[0m\u001b[0;34m\u001b[0m\u001b[0;34m\u001b[0m\u001b[0m\n\u001b[0;32m----> 8\u001b[0;31m \u001b[0mnum\u001b[0m \u001b[0;34m=\u001b[0m \u001b[0mint\u001b[0m\u001b[0;34m(\u001b[0m\u001b[0minput\u001b[0m\u001b[0;34m(\u001b[0m\u001b[0;34m\"120 \"\u001b[0m\u001b[0;34m)\u001b[0m\u001b[0;34m)\u001b[0m\u001b[0;34m\u001b[0m\u001b[0;34m\u001b[0m\u001b[0m\n\u001b[0m\u001b[1;32m      9\u001b[0m \u001b[0mresult\u001b[0m \u001b[0;34m=\u001b[0m \u001b[0mfactorial_recursive\u001b[0m\u001b[0;34m(\u001b[0m\u001b[0mnum\u001b[0m\u001b[0;34m)\u001b[0m\u001b[0;34m\u001b[0m\u001b[0;34m\u001b[0m\u001b[0m\n\u001b[1;32m     10\u001b[0m \u001b[0mprint\u001b[0m\u001b[0;34m(\u001b[0m\u001b[0;34mf\"The factorial of {num} is {result}.\"\u001b[0m\u001b[0;34m)\u001b[0m\u001b[0;34m\u001b[0m\u001b[0;34m\u001b[0m\u001b[0m\n",
            "\u001b[0;32m/usr/local/lib/python3.10/dist-packages/ipykernel/kernelbase.py\u001b[0m in \u001b[0;36mraw_input\u001b[0;34m(self, prompt)\u001b[0m\n\u001b[1;32m    849\u001b[0m                 \u001b[0;34m\"raw_input was called, but this frontend does not support input requests.\"\u001b[0m\u001b[0;34m\u001b[0m\u001b[0;34m\u001b[0m\u001b[0m\n\u001b[1;32m    850\u001b[0m             )\n\u001b[0;32m--> 851\u001b[0;31m         return self._input_request(str(prompt),\n\u001b[0m\u001b[1;32m    852\u001b[0m             \u001b[0mself\u001b[0m\u001b[0;34m.\u001b[0m\u001b[0m_parent_ident\u001b[0m\u001b[0;34m,\u001b[0m\u001b[0;34m\u001b[0m\u001b[0;34m\u001b[0m\u001b[0m\n\u001b[1;32m    853\u001b[0m             \u001b[0mself\u001b[0m\u001b[0;34m.\u001b[0m\u001b[0m_parent_header\u001b[0m\u001b[0;34m,\u001b[0m\u001b[0;34m\u001b[0m\u001b[0;34m\u001b[0m\u001b[0m\n",
            "\u001b[0;32m/usr/local/lib/python3.10/dist-packages/ipykernel/kernelbase.py\u001b[0m in \u001b[0;36m_input_request\u001b[0;34m(self, prompt, ident, parent, password)\u001b[0m\n\u001b[1;32m    893\u001b[0m             \u001b[0;32mexcept\u001b[0m \u001b[0mKeyboardInterrupt\u001b[0m\u001b[0;34m:\u001b[0m\u001b[0;34m\u001b[0m\u001b[0;34m\u001b[0m\u001b[0m\n\u001b[1;32m    894\u001b[0m                 \u001b[0;31m# re-raise KeyboardInterrupt, to truncate traceback\u001b[0m\u001b[0;34m\u001b[0m\u001b[0;34m\u001b[0m\u001b[0m\n\u001b[0;32m--> 895\u001b[0;31m                 \u001b[0;32mraise\u001b[0m \u001b[0mKeyboardInterrupt\u001b[0m\u001b[0;34m(\u001b[0m\u001b[0;34m\"Interrupted by user\"\u001b[0m\u001b[0;34m)\u001b[0m \u001b[0;32mfrom\u001b[0m \u001b[0;32mNone\u001b[0m\u001b[0;34m\u001b[0m\u001b[0;34m\u001b[0m\u001b[0m\n\u001b[0m\u001b[1;32m    896\u001b[0m             \u001b[0;32mexcept\u001b[0m \u001b[0mException\u001b[0m \u001b[0;32mas\u001b[0m \u001b[0me\u001b[0m\u001b[0;34m:\u001b[0m\u001b[0;34m\u001b[0m\u001b[0;34m\u001b[0m\u001b[0m\n\u001b[1;32m    897\u001b[0m                 \u001b[0mself\u001b[0m\u001b[0;34m.\u001b[0m\u001b[0mlog\u001b[0m\u001b[0;34m.\u001b[0m\u001b[0mwarning\u001b[0m\u001b[0;34m(\u001b[0m\u001b[0;34m\"Invalid Message:\"\u001b[0m\u001b[0;34m,\u001b[0m \u001b[0mexc_info\u001b[0m\u001b[0;34m=\u001b[0m\u001b[0;32mTrue\u001b[0m\u001b[0;34m)\u001b[0m\u001b[0;34m\u001b[0m\u001b[0;34m\u001b[0m\u001b[0m\n",
            "\u001b[0;31mKeyboardInterrupt\u001b[0m: Interrupted by user"
          ]
        }
      ]
    },
    {
      "cell_type": "code",
      "execution_count": null,
      "id": "84a2d010-e7b2-409b-b1f4-99bf806bb77a",
      "metadata": {
        "id": "84a2d010-e7b2-409b-b1f4-99bf806bb77a"
      },
      "outputs": [],
      "source": [
        "# Write a Python function to calculate the power of a number using recursion."
      ]
    },
    {
      "cell_type": "code",
      "source": [
        "def power_recursive(base, exponent):\n",
        "    if exponent == 0:\n",
        "        return 1\n",
        "    else:\n",
        "        return base * power_recursive(base, exponent - 1)\n",
        "\n",
        "# Get user input and calculate the power"
      ],
      "metadata": {
        "id": "jugAJxWNBbzc"
      },
      "id": "jugAJxWNBbzc",
      "execution_count": 128,
      "outputs": []
    },
    {
      "cell_type": "code",
      "execution_count": null,
      "id": "ec44911e-7820-46cc-96a3-4ca443888837",
      "metadata": {
        "id": "ec44911e-7820-46cc-96a3-4ca443888837"
      },
      "outputs": [],
      "source": [
        "# Write a Python function to accept a list and return its length without using the built-in len() function."
      ]
    },
    {
      "cell_type": "code",
      "source": [
        "my_list=[10,20,30,40]\n",
        "length=len(my_list)\n",
        "print(\"Length of the list:\", length)"
      ],
      "metadata": {
        "id": "dueNjKNECOpp",
        "outputId": "f16ec7ba-c6ce-4485-86ba-f9440238402f",
        "colab": {
          "base_uri": "https://localhost:8080/"
        }
      },
      "id": "dueNjKNECOpp",
      "execution_count": 129,
      "outputs": [
        {
          "output_type": "stream",
          "name": "stdout",
          "text": [
            "Length of the list: 4\n"
          ]
        }
      ]
    },
    {
      "cell_type": "code",
      "execution_count": null,
      "id": "fb4c08e1-34f3-487a-a1c6-77cd60fb4836",
      "metadata": {
        "id": "fb4c08e1-34f3-487a-a1c6-77cd60fb4836"
      },
      "outputs": [],
      "source": [
        "# Write a Python function that accepts both positional and keyword arguments and prints the sum of positional arguments."
      ]
    },
    {
      "cell_type": "code",
      "execution_count": null,
      "id": "f4ffc7a8-f579-461c-b507-4085a0477283",
      "metadata": {
        "id": "f4ffc7a8-f579-461c-b507-4085a0477283"
      },
      "outputs": [],
      "source": [
        "# Write a Python function to find the maximum of two numbers using keyword arguments."
      ]
    },
    {
      "cell_type": "code",
      "execution_count": null,
      "id": "0b00c4af-89e0-43e8-a991-1b684d2ce33f",
      "metadata": {
        "id": "0b00c4af-89e0-43e8-a991-1b684d2ce33f"
      },
      "outputs": [],
      "source": [
        "# Write a Python function that accepts a list of numbers and returns their product."
      ]
    },
    {
      "cell_type": "code",
      "execution_count": null,
      "id": "9cd11703-5b48-44fe-af4e-ea906a2762c9",
      "metadata": {
        "id": "9cd11703-5b48-44fe-af4e-ea906a2762c9"
      },
      "outputs": [],
      "source": [
        "# Write a Python function to check if a number is even or odd using the modulo operator."
      ]
    },
    {
      "cell_type": "code",
      "execution_count": null,
      "id": "afbf262e-daed-40a9-827f-82fa60979610",
      "metadata": {
        "id": "afbf262e-daed-40a9-827f-82fa60979610"
      },
      "outputs": [],
      "source": [
        "# Write a Python program to create a list of squares of numbers from 1 to 10 using list comprehension."
      ]
    },
    {
      "cell_type": "code",
      "execution_count": null,
      "id": "7fff76d8-9ba8-4006-9be6-6f7350092d1c",
      "metadata": {
        "id": "7fff76d8-9ba8-4006-9be6-6f7350092d1c"
      },
      "outputs": [],
      "source": [
        "# Write a Python program to filter out all even numbers from a list using list comprehension."
      ]
    },
    {
      "cell_type": "code",
      "execution_count": null,
      "id": "6ae9b8df-38f9-4fd7-bad1-aa7b07cc9271",
      "metadata": {
        "id": "6ae9b8df-38f9-4fd7-bad1-aa7b07cc9271"
      },
      "outputs": [],
      "source": [
        "# Write a Python program to create a list of strings that are longer than 4 characters from a given list of words using list comprehension."
      ]
    },
    {
      "cell_type": "code",
      "execution_count": null,
      "id": "f492c7d4-6ad3-48ab-9b61-232be02aecee",
      "metadata": {
        "id": "f492c7d4-6ad3-48ab-9b61-232be02aecee"
      },
      "outputs": [],
      "source": [
        "# Write a Python program to create a list of all uppercase letters in a string using list comprehension."
      ]
    },
    {
      "cell_type": "code",
      "execution_count": null,
      "id": "929a7f74-1762-4a2a-be23-bacf67ff4d8b",
      "metadata": {
        "id": "929a7f74-1762-4a2a-be23-bacf67ff4d8b"
      },
      "outputs": [],
      "source": [
        "# Write a Python program to generate the first n Fibonacci numbers using list comprehension."
      ]
    },
    {
      "cell_type": "code",
      "execution_count": null,
      "id": "47188bbc-cf62-47bb-a14e-0582c8b5cdd9",
      "metadata": {
        "id": "47188bbc-cf62-47bb-a14e-0582c8b5cdd9"
      },
      "outputs": [],
      "source": [
        "# Write a Python program to create a dictionary where keys are numbers and values are their squares using dictionary comprehension."
      ]
    },
    {
      "cell_type": "code",
      "execution_count": null,
      "id": "3c4637d3-aa85-4b4c-acf3-953c10818bcb",
      "metadata": {
        "id": "3c4637d3-aa85-4b4c-acf3-953c10818bcb"
      },
      "outputs": [],
      "source": [
        "# Write a Python program to create a dictionary from two lists (one for keys and one for values) using dictionary comprehension."
      ]
    },
    {
      "cell_type": "code",
      "execution_count": null,
      "id": "de817d6f-96e7-4346-839e-1ef0df539b6b",
      "metadata": {
        "id": "de817d6f-96e7-4346-839e-1ef0df539b6b"
      },
      "outputs": [],
      "source": [
        "# Write a Python program to create a dictionary of numbers from 1 to 5 and their cubes using dictionary comprehension."
      ]
    },
    {
      "cell_type": "code",
      "execution_count": null,
      "id": "33695301-057e-49a6-9f80-a2f4e3af60ed",
      "metadata": {
        "id": "33695301-057e-49a6-9f80-a2f4e3af60ed"
      },
      "outputs": [],
      "source": [
        "# Write a Python program to square each element of a list using the map() function."
      ]
    },
    {
      "cell_type": "code",
      "execution_count": null,
      "id": "6d4d17f3-c40f-4944-8656-c6416b600361",
      "metadata": {
        "id": "6d4d17f3-c40f-4944-8656-c6416b600361"
      },
      "outputs": [],
      "source": [
        "# Write a Python program to filter all even numbers from a list using the filter() function."
      ]
    },
    {
      "cell_type": "code",
      "execution_count": null,
      "id": "6634ba1f-9f81-475e-b7c4-422d102afb75",
      "metadata": {
        "id": "6634ba1f-9f81-475e-b7c4-422d102afb75"
      },
      "outputs": [],
      "source": [
        "# Write a Python program to use a lambda function to check if a number is divisible by both 3 and 5."
      ]
    },
    {
      "cell_type": "code",
      "execution_count": null,
      "id": "0aac8430-5d77-439d-9a99-9598fadf989c",
      "metadata": {
        "id": "0aac8430-5d77-439d-9a99-9598fadf989c"
      },
      "outputs": [],
      "source": [
        "# Write a Python program to multiply all numbers in a list by 2 using a lambda function inside map()."
      ]
    },
    {
      "cell_type": "code",
      "execution_count": null,
      "id": "e4cd5ba8-c6ec-4f0d-8787-bf0a4b7a2e22",
      "metadata": {
        "id": "e4cd5ba8-c6ec-4f0d-8787-bf0a4b7a2e22"
      },
      "outputs": [],
      "source": [
        "# Write a Python program to remove all occurrences of a specific element from a list."
      ]
    },
    {
      "cell_type": "markdown",
      "id": "caba77c7-93db-4893-8f48-c7365ed5c585",
      "metadata": {
        "id": "caba77c7-93db-4893-8f48-c7365ed5c585"
      },
      "source": [
        "**Note:**\n",
        "- All assignments must follow [PEP 8 – Style Guide for Python Code](https://peps.python.org/pep-0008/) guidelines.\n",
        "- You can add multiple solutions for each question. Create a new code cell next to the question and add it. Shortcut for creating cell : `Alt + Enter`"
      ]
    }
  ],
  "metadata": {
    "kernelspec": {
      "display_name": "Python 3 (ipykernel)",
      "language": "python",
      "name": "python3"
    },
    "language_info": {
      "codemirror_mode": {
        "name": "ipython",
        "version": 3
      },
      "file_extension": ".py",
      "mimetype": "text/x-python",
      "name": "python",
      "nbconvert_exporter": "python",
      "pygments_lexer": "ipython3",
      "version": "3.12.6"
    },
    "colab": {
      "provenance": [],
      "include_colab_link": true
    }
  },
  "nbformat": 4,
  "nbformat_minor": 5
}